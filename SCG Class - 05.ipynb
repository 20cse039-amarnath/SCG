{
 "cells": [
  {
   "cell_type": "code",
   "execution_count": 19,
   "id": "919b792b",
   "metadata": {},
   "outputs": [
    {
     "name": "stdout",
     "output_type": "stream",
     "text": [
      "2000.0\n"
     ]
    }
   ],
   "source": [
    "class Wecareinsurance:\n",
    "    def __init__(self,vehicle_id,vtype,vcost):\n",
    "        self.vehichle_id=vehicle_id\n",
    "        self.vtype=vtype\n",
    "        self.vcost=vcost\n",
    "        if vtype==\"Two Wheeler\":\n",
    "            pa=(vcost*2)/100\n",
    "            print(pa)\n",
    "        elif vtype==\"Four Wheeler\":\n",
    "            pa=(vcost*6)/100\n",
    "            print(pa)\n",
    "        else:\n",
    "            print(\"invalid vehicle type\")\n",
    "we=Wecareinsurance(101,\"Two Wheeler\",100000)\n"
   ]
  },
  {
   "cell_type": "code",
   "execution_count": 4,
   "id": "2daccd5c",
   "metadata": {},
   "outputs": [
    {
     "ename": "AttributeError",
     "evalue": "'C' object has no attribute 'pa'",
     "output_type": "error",
     "traceback": [
      "\u001b[1;31m---------------------------------------------------------------------------\u001b[0m",
      "\u001b[1;31mAttributeError\u001b[0m                            Traceback (most recent call last)",
      "Cell \u001b[1;32mIn [4], line 5\u001b[0m\n\u001b[0;32m      3\u001b[0m         pa\u001b[38;5;241m=\u001b[39m\u001b[38;5;241m1\u001b[39m\u001b[38;5;241m+\u001b[39mv\n\u001b[0;32m      4\u001b[0m o\u001b[38;5;241m=\u001b[39mC(\u001b[38;5;241m5\u001b[39m)\n\u001b[1;32m----> 5\u001b[0m \u001b[38;5;28mprint\u001b[39m(\u001b[43mo\u001b[49m\u001b[38;5;241;43m.\u001b[39;49m\u001b[43mpa\u001b[49m)\n",
      "\u001b[1;31mAttributeError\u001b[0m: 'C' object has no attribute 'pa'"
     ]
    }
   ],
   "source": [
    "class Wecareinsurance:\n",
    "    def __init__(self,vehicle_id,vtype,vcost):\n",
    "        self.vehichle_id=None\n",
    "        self.vtype=None\n",
    "        self.vcost=None\n",
    "    def set_vehicle_id(self,vehicle_id):\n",
    "        self.vehicle_id=vehicle_id\n",
    "    def set_vehicle_id(self,vtype):\n",
    "        self.vtype=vtype\n",
    "    def set_vehicle_id(self,vcost):\n",
    "        self.vcost=vcost\n",
    "    \n",
    "    \n",
    "    \n",
    "        \n",
    "        "
   ]
  },
  {
   "cell_type": "code",
   "execution_count": 24,
   "id": "3eeaf134",
   "metadata": {},
   "outputs": [
    {
     "name": "stdout",
     "output_type": "stream",
     "text": [
      "21\n",
      "21\n"
     ]
    }
   ],
   "source": [
    "class Geek:\n",
    "    def __init__(self,age = 0):\n",
    "         self.age = age\n",
    "      \n",
    "    # getter method\n",
    "    def get_age(self):\n",
    "        return self.age\n",
    "      \n",
    "    # setter method\n",
    "    def set_age(self, x):\n",
    "        self.age = x\n",
    "  \n",
    "raj = Geek()\n",
    "  \n",
    "# setting the age using setter\n",
    "raj.set_age(21)\n",
    "  \n",
    "# retrieving age using getter\n",
    "print(raj.get_age())\n",
    "  \n",
    "print(raj._age)"
   ]
  },
  {
   "cell_type": "code",
   "execution_count": 30,
   "id": "1d6b2c94",
   "metadata": {},
   "outputs": [
    {
     "name": "stdout",
     "output_type": "stream",
     "text": [
      "<__main__.Student object at 0x000002CE74FCCBB0>\n"
     ]
    }
   ],
   "source": [
    "class Student:\n",
    "    def __init__(self,sid,age,mark):\n",
    "        self._sid=None\n",
    "        self._age=None\n",
    "        self._mark=None\n",
    "    def get_sid(self):\n",
    "        return self._sid\n",
    "    def set_sid(self,sid):\n",
    "        self.sid=sid\n",
    "    def get_age(self):\n",
    "        return self._age\n",
    "    def set_age(self,age):\n",
    "        self.age=age\n",
    "    def get_mark(self):\n",
    "        return self._mark\n",
    "    def set_mark(self,mark):\n",
    "        self.mark=mark\n",
    "    def validate_marks(self):\n",
    "        tmark=True\n",
    "        if self.mark>=0 and self.mark <=100:\n",
    "            return tmark\n",
    "        else:\n",
    "            return False\n",
    "    def validate_age(self):\n",
    "        if self.age>20:\n",
    "            return True\n",
    "        else:\n",
    "            return False\n",
    "    def check_qualification(self):\n",
    "        if self._mark>=65 and self.age>=20:\n",
    "            return True\n",
    "        else:\n",
    "            return False\n",
    "    def curse(self,sid):\n",
    "        if \n",
    "        \n",
    "            \n",
    "Student(100,15,88)  "
   ]
  },
  {
   "cell_type": "code",
   "execution_count": 40,
   "id": "c5b0838a",
   "metadata": {},
   "outputs": [
    {
     "ename": "SyntaxError",
     "evalue": "incomplete input (1924531569.py, line 9)",
     "output_type": "error",
     "traceback": [
      "\u001b[1;36m  Cell \u001b[1;32mIn [40], line 9\u001b[1;36m\u001b[0m\n\u001b[1;33m    class Pizzaservice(self,counter):\u001b[0m\n\u001b[1;37m                                     ^\u001b[0m\n\u001b[1;31mSyntaxError\u001b[0m\u001b[1;31m:\u001b[0m incomplete input\n"
     ]
    }
   ],
   "source": [
    "class Customer:\n",
    "    def __init__(self,quantity):\n",
    "        self.quantity=quantity\n",
    "    def validate_quantity(quantity):\n",
    "        if quantity>=1 and quantity<=5:\n",
    "            return True\n",
    "        else:\n",
    "            return False\n",
    "class Pizzaservice(self,ad_t):\n",
    "    self.ad_t=ad_t\n",
    "    counter=100\n",
    "    if at==\"True\" :\n",
    "        print(\"additional tooping is required\")\n",
    "    else:\n",
    "        print(\"additional tooping is not required\")\n",
    "    def validate_pizza_type(self,pizza_type):\n",
    "        if self.pizza_type==\"small\"         "
   ]
  },
  {
   "cell_type": "code",
   "execution_count": null,
   "id": "7fbf238a",
   "metadata": {},
   "outputs": [],
   "source": []
  }
 ],
 "metadata": {
  "kernelspec": {
   "display_name": "Python 3 (ipykernel)",
   "language": "python",
   "name": "python3"
  },
  "language_info": {
   "codemirror_mode": {
    "name": "ipython",
    "version": 3
   },
   "file_extension": ".py",
   "mimetype": "text/x-python",
   "name": "python",
   "nbconvert_exporter": "python",
   "pygments_lexer": "ipython3",
   "version": "3.10.8"
  }
 },
 "nbformat": 4,
 "nbformat_minor": 5
}
