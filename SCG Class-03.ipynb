{
 "cells": [
  {
   "cell_type": "code",
   "execution_count": 1,
   "id": "35bff1a4",
   "metadata": {},
   "outputs": [
    {
     "data": {
      "text/plain": [
       "5"
      ]
     },
     "execution_count": 1,
     "metadata": {},
     "output_type": "execute_result"
    }
   ],
   "source": [
    "a=2\n",
    "a+2\n",
    "a=a+3\n",
    "a"
   ]
  },
  {
   "cell_type": "code",
   "execution_count": 2,
   "id": "8918c0aa",
   "metadata": {},
   "outputs": [
    {
     "data": {
      "text/plain": [
       "3"
      ]
     },
     "execution_count": 2,
     "metadata": {},
     "output_type": "execute_result"
    }
   ],
   "source": [
    "b=3\n",
    "b"
   ]
  },
  {
   "cell_type": "code",
   "execution_count": 3,
   "id": "4089d279",
   "metadata": {},
   "outputs": [
    {
     "data": {
      "text/plain": [
       "5"
      ]
     },
     "execution_count": 3,
     "metadata": {},
     "output_type": "execute_result"
    }
   ],
   "source": [
    "c=5\n",
    "c"
   ]
  },
  {
   "cell_type": "code",
   "execution_count": 2,
   "id": "92bb7af9",
   "metadata": {},
   "outputs": [
    {
     "name": "stdout",
     "output_type": "stream",
     "text": [
      "enter n1 :5\n",
      "enter n2 : 7\n",
      "[5, 6, 7]\n",
      "[[5], [5, 6], [5, 6, 7], [6], [6, 7], [7]]\n"
     ]
    }
   ],
   "source": [
    "n1=int(input(\"enter n1 :\"))\n",
    "n2=int(input(\"enter n2 : \"))\n",
    "array=[i for i in range(n1,n2+1)]\n",
    "print(array)\n",
    "result=[]\n",
    "for i in range(len(array)):\n",
    "    for j in range(i,len(array)):\n",
    "        result.append(array[i:j+1])\n",
    "print(result)\n",
    "result=[array[i:j+1] for i in range(len(array))for j in range(i,len(array))\n",
    "       ]"
   ]
  },
  {
   "cell_type": "code",
   "execution_count": 3,
   "id": "600354f8",
   "metadata": {},
   "outputs": [
    {
     "data": {
      "text/plain": [
       "[0, 1, 2, 3, 4, 5, 6, 7, 8, 9, 10]"
      ]
     },
     "execution_count": 3,
     "metadata": {},
     "output_type": "execute_result"
    }
   ],
   "source": [
    "l=[i for i in range(11)]\n",
    "l"
   ]
  },
  {
   "cell_type": "code",
   "execution_count": 37,
   "id": "cd3c4e83",
   "metadata": {},
   "outputs": [
    {
     "ename": "SyntaxError",
     "evalue": "expected 'else' after 'if' expression (861665299.py, line 1)",
     "output_type": "error",
     "traceback": [
      "\u001b[1;36m  Cell \u001b[1;32mIn [37], line 1\u001b[1;36m\u001b[0m\n\u001b[1;33m    l=[i if i%2==0 for i in range(11)]\u001b[0m\n\u001b[1;37m       ^\u001b[0m\n\u001b[1;31mSyntaxError\u001b[0m\u001b[1;31m:\u001b[0m expected 'else' after 'if' expression\n"
     ]
    }
   ],
   "source": [
    "l=[i if i%2==0 ]\n",
    "l"
   ]
  },
  {
   "cell_type": "code",
   "execution_count": 38,
   "id": "44a2affc",
   "metadata": {},
   "outputs": [
    {
     "name": "stdout",
     "output_type": "stream",
     "text": [
      "[[1, 8, 9, 64], [25, 216, 49, 512], [81, 1000, 121, 1728], [169, 2744, 225, 4096]]\n"
     ]
    }
   ],
   "source": [
    "l1=[]\n",
    "l2=[i for i in range(11) if i%2!=0 ]\n",
    "print(l)"
   ]
  },
  {
   "cell_type": "code",
   "execution_count": 39,
   "id": "0e363ef4",
   "metadata": {},
   "outputs": [
    {
     "name": "stdout",
     "output_type": "stream",
     "text": [
      "[0, 1, 8, 9, 64, 25, 216, 49, 512, 81, 1000]\n"
     ]
    }
   ],
   "source": [
    "l=[i**3 if i%2==0  else i**2 for i in range(11)]\n",
    "print(l)"
   ]
  },
  {
   "cell_type": "code",
   "execution_count": 40,
   "id": "58a1c1c3",
   "metadata": {},
   "outputs": [
    {
     "data": {
      "text/plain": [
       "[1, 8, 9, 64, 25, 216, 49, 512, 81, 1000, 121, 1728, 169, 2744, 225, 4096]"
      ]
     },
     "execution_count": 40,
     "metadata": {},
     "output_type": "execute_result"
    }
   ],
   "source": [
    "matrix=[[1,2,3,4],[5,6,7,8],[9,10,11,12],[13,14,15,16]]\n",
    "l=[i**3 if i%2==0 else i**2 for j in matrix for i in j]\n",
    "l"
   ]
  },
  {
   "cell_type": "code",
   "execution_count": 41,
   "id": "834f2d62",
   "metadata": {},
   "outputs": [
    {
     "name": "stdout",
     "output_type": "stream",
     "text": [
      "[169, 2744, 225, 4096]\n",
      "[[1, 8, 9, 64], [25, 216, 49, 512], [81, 1000, 121, 1728], [169, 2744, 225, 4096]]\n"
     ]
    }
   ],
   "source": [
    "mat=[[1,2,3,4],[5,6,7,8],[9,10,11,12],[13,14,15,16]]\n",
    "l2=[]\n",
    "for i in mat:\n",
    "    l1=[]\n",
    "    for j in i:\n",
    "        if j%2==0:\n",
    "            l1.append(j**3)\n",
    "        else:\n",
    "            l1.append(j**2)\n",
    "    l2.append(l1)\n",
    "print(l1)\n",
    "print(l2)\n",
    "    "
   ]
  },
  {
   "cell_type": "code",
   "execution_count": 42,
   "id": "41db94d7",
   "metadata": {},
   "outputs": [
    {
     "data": {
      "text/plain": [
       "[[1, 8, 9, 64],\n",
       " [25, 216, 49, 512],\n",
       " [81, 1000, 121, 1728],\n",
       " [169, 2744, 225, 4096]]"
      ]
     },
     "execution_count": 42,
     "metadata": {},
     "output_type": "execute_result"
    }
   ],
   "source": [
    "l=[[i**3 if i%2==0 else i**2  for i in j]for j in matrix]\n",
    "l"
   ]
  },
  {
   "cell_type": "code",
   "execution_count": 51,
   "id": "e10e2697",
   "metadata": {},
   "outputs": [
    {
     "name": "stdout",
     "output_type": "stream",
     "text": [
      "[(6, 2), (4, 8), (6, 2), (1, 3), (2, 7), (2, 7)]\n"
     ]
    }
   ],
   "source": [
    "mylist=[9,3,6,1,5,0,8,2,4,7]\n",
    "list_b=[6,4,6,1,2,2]\n",
    "#res=[(6,2),(4,8)]\n",
    "l=[]\n",
    "for i in list_b:\n",
    "    t=()\n",
    "    for j in mylist:\n",
    "        if i==j:\n",
    "            t=t+(i,mylist.index(j))\n",
    "    l.append(t)\n",
    "print(l)\n",
    "            "
   ]
  },
  {
   "cell_type": "code",
   "execution_count": 62,
   "id": "f2aa6e5e",
   "metadata": {},
   "outputs": [
    {
     "data": {
      "text/plain": [
       "{(1, 3), (2, 7), (4, 8), (6, 2)}"
      ]
     },
     "execution_count": 62,
     "metadata": {},
     "output_type": "execute_result"
    }
   ],
   "source": [
    "mylist=[9,3,6,1,5,0,8,2,4,7]\n",
    "list_b=[6,4,6,1,2,2]\n",
    "l=[(i,mylist.index(i)) for i in list_b]\n",
    "l"
   ]
  },
  {
   "cell_type": "code",
   "execution_count": 69,
   "id": "46380c91",
   "metadata": {},
   "outputs": [
    {
     "name": "stdout",
     "output_type": "stream",
     "text": [
      "{(6, 2), (1, 3), (2, 7), (4, 8)}\n",
      "{6: 2, 4: 8, 1: 3, 2: 7}\n"
     ]
    }
   ],
   "source": [
    "mylist=[9,3,6,1,5,0,8,2,4,7]\n",
    "list_b=[6,4,6,1,2,2]\n",
    "l2={(i,mylist.index(i)) for i in list_b}\n",
    "print(l2)\n",
    "l={i:mylist.index(i) for i in list_b}\n",
    "print(l)"
   ]
  },
  {
   "cell_type": "code",
   "execution_count": 77,
   "id": "696a4d98",
   "metadata": {},
   "outputs": [
    {
     "ename": "SyntaxError",
     "evalue": "incomplete input (873042633.py, line 8)",
     "output_type": "error",
     "traceback": [
      "\u001b[1;36m  Cell \u001b[1;32mIn [77], line 8\u001b[1;36m\u001b[0m\n\u001b[1;33m    \u001b[0m\n\u001b[1;37m    ^\u001b[0m\n\u001b[1;31mSyntaxError\u001b[0m\u001b[1;31m:\u001b[0m incomplete input\n"
     ]
    }
   ],
   "source": [
    "sent=[\"a new world record was set\",\"in the holy city ayodha\",\"on the eve of diwali on tuesday\",\"lit up simultaneously on the banks of the saryu river\"]\n",
    "stopwords=['for','a','of','the','and','to','in','on','with','was']\n",
    "l=[ [i.replace('j','') for k in stopwords if k==j ]for i in sent for j in i]\n",
    "for i in sent:\n",
    "    res=[]\n",
    "    for j in sent.split():\n",
    "        \n",
    "        "
   ]
  },
  {
   "cell_type": "code",
   "execution_count": 93,
   "id": "e68d51ef",
   "metadata": {},
   "outputs": [
    {
     "name": "stdout",
     "output_type": "stream",
     "text": [
      "['3', '2', '6', '5', '1', '4', '8', '9']\n",
      "5148\n",
      "3269\n",
      "20\n",
      "5168\n"
     ]
    }
   ],
   "source": [
    "ns=\"3,2,6,5,1,4,8,9\"\n",
    "l=ns.split(\",\")\n",
    "print(l)\n",
    "s1=\"\"\n",
    "s2=\"\"\n",
    "s3=\"\"\n",
    "s4=\"\"\n",
    "five=l.index(str(\"5\"))\n",
    "eight=l.index(str(\"8\"))\n",
    "for j in range(five,eight+1):\n",
    "    s2=s2+l[j]\n",
    "print(s2)\n",
    "for i in range(five):\n",
    "    s1=s1+l[i]\n",
    "for k in range(eight+1,len(l)):\n",
    "    s3=s3+l[k]\n",
    "s4=s1+s3\n",
    "print(s4)\n",
    "a=0\n",
    "for i in s4:\n",
    "    a+=int(i)\n",
    "print(a)\n",
    "res=int(s2)+a\n",
    "print(res)"
   ]
  },
  {
   "cell_type": "code",
   "execution_count": 110,
   "id": "54bfa104",
   "metadata": {},
   "outputs": [
    {
     "name": "stdout",
     "output_type": "stream",
     "text": [
      "enter str ghtuv\n",
      "1246\n",
      "57\n",
      "tuvgh\n"
     ]
    }
   ],
   "source": [
    "s=str(input(\"enter str \"))\n",
    "num=int(input())\n",
    "m=0\n",
    "s1=\"\"\n",
    "for i in str(num):\n",
    "    m=m+(int(i))**2\n",
    "print(m)\n",
    "if m%2==0:\n",
    "    s1=s[-1]+s[:-1]\n",
    "else:\n",
    "    s1=s[2:]+s[:2]\n",
    "print(s1)\n",
    "    \n",
    "    "
   ]
  },
  {
   "cell_type": "code",
   "execution_count": 101,
   "id": "ca302ca2",
   "metadata": {},
   "outputs": [
    {
     "data": {
      "text/plain": [
       "'abcd'"
      ]
     },
     "execution_count": 101,
     "metadata": {},
     "output_type": "execute_result"
    }
   ],
   "source": [
    "s=\"abcde\"\n",
    "c=s[:-1]\n",
    "c"
   ]
  },
  {
   "cell_type": "code",
   "execution_count": 138,
   "id": "597d2ee5",
   "metadata": {},
   "outputs": [
    {
     "name": "stdout",
     "output_type": "stream",
     "text": [
      "enter no 10\n",
      "[2, 5]\n",
      "[11]\n",
      "[2, 3]\n",
      "[13]\n",
      "[2, 7]\n",
      "[3, 5]\n",
      "[2]\n",
      "[17]\n",
      "[2, 3]\n",
      "[5, 11, 3, 13, 7, 5, 2, 17, 3]\n",
      "66\n"
     ]
    }
   ],
   "source": [
    "n=int(input(\"enter no \"))\n",
    "l1=[]\n",
    "for j in range(n,n+9):\n",
    "    l=[]\n",
    "    for i in range(1,j+1):\n",
    "        if j%i==0:\n",
    "            a=0\n",
    "            for k in range(1,j+1):\n",
    "                if i%k==0:\n",
    "                    a+=1\n",
    "            if a==2:\n",
    "                l.append(i)\n",
    "    print(l)\n",
    "    a=max(l)\n",
    "    l1.append(a)\n",
    "    #l1.append(max(l))\n",
    "print(l1)\n",
    "a=0\n",
    "for k in l1:\n",
    "    a+=k\n",
    "print(a)\n",
    "    \n",
    "    \n",
    "\n",
    "    \n",
    "\n",
    "    "
   ]
  },
  {
   "cell_type": "code",
   "execution_count": null,
   "id": "38daa287",
   "metadata": {},
   "outputs": [],
   "source": []
  }
 ],
 "metadata": {
  "kernelspec": {
   "display_name": "Python 3 (ipykernel)",
   "language": "python",
   "name": "python3"
  },
  "language_info": {
   "codemirror_mode": {
    "name": "ipython",
    "version": 3
   },
   "file_extension": ".py",
   "mimetype": "text/x-python",
   "name": "python",
   "nbconvert_exporter": "python",
   "pygments_lexer": "ipython3",
   "version": "3.10.8"
  }
 },
 "nbformat": 4,
 "nbformat_minor": 5
}
