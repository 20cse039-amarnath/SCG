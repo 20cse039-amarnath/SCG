{
 "cells": [
  {
   "cell_type": "code",
   "execution_count": 2,
   "id": "d178b369",
   "metadata": {},
   "outputs": [
    {
     "name": "stdout",
     "output_type": "stream",
     "text": [
      "<class 'list'>\n"
     ]
    }
   ],
   "source": [
    "l=[1,2,3,4,5]\n",
    "print(type(l))"
   ]
  },
  {
   "cell_type": "code",
   "execution_count": 3,
   "id": "ac5697b8",
   "metadata": {},
   "outputs": [
    {
     "data": {
      "text/plain": [
       "[1, 2, 4, 5]"
      ]
     },
     "execution_count": 3,
     "metadata": {},
     "output_type": "execute_result"
    }
   ],
   "source": [
    "l.remove(l[2])\n",
    "l"
   ]
  },
  {
   "cell_type": "code",
   "execution_count": 6,
   "id": "3051e432",
   "metadata": {},
   "outputs": [
    {
     "data": {
      "text/plain": [
       "[4, 5]"
      ]
     },
     "execution_count": 6,
     "metadata": {},
     "output_type": "execute_result"
    }
   ],
   "source": [
    "l.pop(0)\n",
    "l"
   ]
  },
  {
   "cell_type": "code",
   "execution_count": 118,
   "id": "6d714793",
   "metadata": {},
   "outputs": [
    {
     "name": "stdout",
     "output_type": "stream",
     "text": [
      "[5, 3]\n"
     ]
    }
   ],
   "source": [
    "def fun(s):\n",
    "    n_l=0\n",
    "    f_r=[]\n",
    "    n_d=0\n",
    "    c=['a','b','c','d','e','f','g','h','i','j','k','l','m','n','o','p','q','r','s','t','u','v','w','x','y','z',\n",
    "       'A','B','C','D','E','F','G','H','I','J','K','L','M','N','O','P','Q','R','S','T','U','V','W','X','Y','Z']\n",
    "    d=['1','2','3','4','5','6','7','8','9','0']\n",
    "    for i in range(len(s)):\n",
    "        if(s[i] in c):\n",
    "            n_l+=1\n",
    "    for j in range(len(s)):\n",
    "        if s[j] in d:\n",
    "            n_d+=1\n",
    "    f_r.append(n_l)\n",
    "    f_r.append(n_d)\n",
    "    print(f_r)\n",
    "fun(\"amarA 123 @\")"
   ]
  },
  {
   "cell_type": "code",
   "execution_count": 28,
   "id": "b353844d",
   "metadata": {},
   "outputs": [
    {
     "name": "stdout",
     "output_type": "stream",
     "text": [
      "[4, 5]\n"
     ]
    }
   ],
   "source": [
    "#wrong\n",
    "def fun(s1):\n",
    "    n_l=0\n",
    "    n_d=0\n",
    "    l=[]\n",
    "    for i in range(len(s1)):\n",
    "        if (s1[i]).isalpha():\n",
    "            n_l+=1\n",
    "        else (s1[i]).isdigit():\n",
    "            n_d+=1\n",
    "    l.append(n_l)\n",
    "    l.append(n_d)\n",
    "fun(\"amarA 123@A\")\n",
    "print(l)"
   ]
  },
  {
   "cell_type": "code",
   "execution_count": null,
   "id": "fc3cfaab",
   "metadata": {},
   "outputs": [],
   "source": [
    "def fun(s):\n",
    "    l=0\n",
    "    d=0\n",
    "    l=[]\n",
    "    for i "
   ]
  },
  {
   "cell_type": "code",
   "execution_count": 45,
   "id": "ffa9bf66",
   "metadata": {},
   "outputs": [
    {
     "data": {
      "text/plain": [
       "0"
      ]
     },
     "execution_count": 45,
     "metadata": {},
     "output_type": "execute_result"
    }
   ],
   "source": [
    "def fun1(l1,sum1):\n",
    "    no_po=0\n",
    "    for i in l1:\n",
    "        index_2=i\n",
    "        for j in range(index_2+1,len(l1)):\n",
    "            if i+l1[j]==sum1:\n",
    "                no_po+=1\n",
    "    return no_po\n",
    "l1=[2,3,4,5,6]\n",
    "sum1=6\n",
    "fun1(l1,sum1)\n",
    "                \n",
    "    "
   ]
  },
  {
   "cell_type": "code",
   "execution_count": 36,
   "id": "fea19c2e",
   "metadata": {},
   "outputs": [
    {
     "data": {
      "text/plain": [
       "()"
      ]
     },
     "execution_count": 36,
     "metadata": {},
     "output_type": "execute_result"
    }
   ],
   "source": [
    "def fun1(l2,s1):\n",
    "    no=0\n",
    "    l3=[]\n",
    "    for i in range(len(l2)/2):\n",
    "        l3.append(l[i])\n",
    "    for i in range(len(l2)/2):\n",
    "        l4.append(l2[i])\n",
    "    "
   ]
  },
  {
   "cell_type": "code",
   "execution_count": 66,
   "id": "9b04ba26",
   "metadata": {},
   "outputs": [
    {
     "name": "stdout",
     "output_type": "stream",
     "text": [
      "w3ce\n",
      "w3w3\n"
     ]
    },
    {
     "data": {
      "text/plain": [
       "-1"
      ]
     },
     "execution_count": 66,
     "metadata": {},
     "output_type": "execute_result"
    }
   ],
   "source": [
    "#correct\n",
    "def func(s):\n",
    "    ns=\"\"\n",
    "    if len(s)<2:\n",
    "        return -1\n",
    "    else:\n",
    "        ns=ns+s[0]+s[1]+s[-2]+s[-1]\n",
    "    print(ns)\n",
    "func(\"w3resource\")\n",
    "func(\"w3\")\n",
    "func(\"e\")"
   ]
  },
  {
   "cell_type": "code",
   "execution_count": 63,
   "id": "7eca755b",
   "metadata": {},
   "outputs": [
    {
     "data": {
      "text/plain": [
       "'abe'"
      ]
     },
     "execution_count": 63,
     "metadata": {},
     "output_type": "execute_result"
    }
   ],
   "source": [
    "s=\"\"\n",
    "a=\"abcde\"\n",
    "s=s+a[0]+a[1]+a[-1]\n",
    "s"
   ]
  },
  {
   "cell_type": "code",
   "execution_count": 76,
   "id": "2a23885d",
   "metadata": {},
   "outputs": [
    {
     "name": "stdout",
     "output_type": "stream",
     "text": [
      "sleeping\n",
      "is\n",
      "amazingly\n"
     ]
    }
   ],
   "source": [
    "#correct\n",
    "def fun(s):\n",
    "    if len(s)>2:\n",
    "        if s[-3:]==\"ing\":\n",
    "            s=s+\"ly\"\n",
    "            print(s)\n",
    "        else:\n",
    "            s=s+\"ing\"\n",
    "            print(s)\n",
    "    else:\n",
    "        print(s)\n",
    "fun(\"sleep\")\n",
    "fun(\"is\")\n",
    "fun(\"amazing\")"
   ]
  },
  {
   "cell_type": "code",
   "execution_count": 88,
   "id": "d956d9a4",
   "metadata": {},
   "outputs": [
    {
     "name": "stdout",
     "output_type": "stream",
     "text": [
      "False\n"
     ]
    }
   ],
   "source": [
    "#correct\n",
    "def fun(n):\n",
    "    d_n=int(n*2)\n",
    "    b=str(n)\n",
    "    c=str(d_n)\n",
    "    count=0\n",
    "    for i in b:\n",
    "        if i in c:\n",
    "            count+=1\n",
    "        else:\n",
    "            print(\"False\")\n",
    "            break\n",
    "    if count==len(b):\n",
    "        print(\"True\")\n",
    "fun(234567)  \n",
    "    \n",
    "    "
   ]
  },
  {
   "cell_type": "markdown",
   "id": "15dc7524",
   "metadata": {},
   "source": [
    "# decimal to binary"
   ]
  },
  {
   "cell_type": "code",
   "execution_count": null,
   "id": "9e7fe98a",
   "metadata": {},
   "outputs": [],
   "source": [
    "n=int(input())\n",
    "s=\"\"\n",
    "for i in range(n):\n",
    "    s=s+str(int(n%2))\n",
    "    n=int(n/2)\n",
    "    if(n==0):\n",
    "        break\n",
    "print(s[::-1])\n",
    "\n"
   ]
  },
  {
   "cell_type": "code",
   "execution_count": 121,
   "id": "b923bc83",
   "metadata": {},
   "outputs": [
    {
     "name": "stdout",
     "output_type": "stream",
     "text": [
      "['god', 'jul']\n"
     ]
    }
   ],
   "source": [
    "def translate(d,list1):\n",
    "    list2=[]\n",
    "    for i in list1:\n",
    "        list2.append(d[i])\n",
    "    return list2\n",
    "        \n",
    "d={\"merry\":\"god\",\"christmas\":\"jul\",\"and\":\"och\",\"happy\":\"got\",\"new\":\"hytt\",\"year\":\"ar\"}\n",
    "list1=[\"merry\",\"christmas\"]\n",
    "print(translate(d,list1))"
   ]
  },
  {
   "cell_type": "code",
   "execution_count": 136,
   "id": "fae4dee9",
   "metadata": {},
   "outputs": [
    {
     "name": "stdout",
     "output_type": "stream",
     "text": [
      "enter word : merry\n",
      "['god']\n"
     ]
    }
   ],
   "source": [
    "d={\"merry\":\"god\",\"christmas\":\"jul\",\"and\":\"och\",\"happy\":\"got\",\"new\":\"hytt\",\"year\":\"ar\"}\n",
    "list1=[]\n",
    "sent=str(input(\"enter word : \"))\n",
    "list1.append(sent)\n",
    "list2=[]\n",
    "for i in list1:\n",
    "    list2.append(d[i])\n",
    "print(list2)\n",
    "        \n",
    "\n"
   ]
  },
  {
   "cell_type": "code",
   "execution_count": 139,
   "id": "dfbc0e51",
   "metadata": {},
   "outputs": [
    {
     "name": "stdout",
     "output_type": "stream",
     "text": [
      "enter word : how\n",
      "['କିପରି']\n"
     ]
    }
   ],
   "source": [
    "d={\"what\":\"କଣ\",\"where\":\"କେଉଁଠାରେ\",\"when\":\"କେବେ\",\"how\":\"କିପରି\",\"my\":\"ମୋର\",\"name\":\"ନାମ\",\"your\":\"ତୁମର\"}\n",
    "list1=[]\n",
    "sent=str(input(\"enter word : \"))\n",
    "list1.append(sent)\n",
    "list2=[]\n",
    "for i in list1:\n",
    "    list2.append(d[i])\n",
    "print(list2)"
   ]
  },
  {
   "cell_type": "code",
   "execution_count": null,
   "id": "2fc91fe0",
   "metadata": {},
   "outputs": [],
   "source": []
  }
 ],
 "metadata": {
  "kernelspec": {
   "display_name": "Python 3 (ipykernel)",
   "language": "python",
   "name": "python3"
  },
  "language_info": {
   "codemirror_mode": {
    "name": "ipython",
    "version": 3
   },
   "file_extension": ".py",
   "mimetype": "text/x-python",
   "name": "python",
   "nbconvert_exporter": "python",
   "pygments_lexer": "ipython3",
   "version": "3.10.8"
  }
 },
 "nbformat": 4,
 "nbformat_minor": 5
}
