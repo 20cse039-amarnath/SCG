{
 "cells": [
  {
   "cell_type": "code",
   "execution_count": 12,
   "id": "e5205991",
   "metadata": {},
   "outputs": [
    {
     "name": "stdout",
     "output_type": "stream",
     "text": [
      "1331\n"
     ]
    }
   ],
   "source": [
    "def nearest_palindrom(n):\n",
    "    for i in range(n+1,n*n):\n",
    "        a=str(i)\n",
    "        if a==a[::-1]:\n",
    "            print(a)\n",
    "            break\n",
    "\n",
    "nearest_palindrom(1221)"
   ]
  },
  {
   "cell_type": "code",
   "execution_count": 28,
   "id": "bb0c8c03",
   "metadata": {},
   "outputs": [
    {
     "name": "stdout",
     "output_type": "stream",
     "text": [
      "ENT\n"
     ]
    }
   ],
   "source": [
    "#medical_specialities={\"P\":\"Pediatrics\",\"O\":\"Orthopedics\",\"E\":\"ENT\"}\n",
    "def msvc(l):\n",
    "    p=0\n",
    "    o=0\n",
    "    e=0\n",
    "    for i in range(1,len(l),2):\n",
    "        if l[i]==\"P\":\n",
    "            p+=1\n",
    "        if l[i]==\"O\":\n",
    "            o+=1\n",
    "        if l[i]==\"E\":\n",
    "            e+=1\n",
    "    if p>e and p>o:\n",
    "        print(\"Pediatrics\")\n",
    "    if o>e and o>p:\n",
    "        print(\"Orthopedics\")\n",
    "    if e>o and e>p:\n",
    "        print(\"ENT\")\n",
    "    \n",
    "msvc([101,\"P\",102,\"O\",385,\"E\",388,\"P\",890,\"E\",891,\"E\"])"
   ]
  },
  {
   "cell_type": "code",
   "execution_count": 39,
   "id": "a5533618",
   "metadata": {},
   "outputs": [
    {
     "name": "stdout",
     "output_type": "stream",
     "text": [
      "o e n i l y\n"
     ]
    }
   ],
   "source": [
    "s1=\"I like Python\"\n",
    "s2=\"Java is a very popular language\"\n",
    "l1=s1.replace(\" \",\"\")\n",
    "l2=s2.replace(\" \",\"\")\n",
    "l3=[]\n",
    "s=\"\"\n",
    "for i in l1:\n",
    "    for j in l2 :\n",
    "        if i==j:\n",
    "            l3.append(i)\n",
    "'''for i in l3:\n",
    "    if i in s:\n",
    "        continue\n",
    "    else:\n",
    "        s=s+i\n",
    "\n",
    "print(s)\n",
    "'''\n",
    "print(*set(l3))\n",
    "\n",
    "        \n",
    "    "
   ]
  },
  {
   "cell_type": "markdown",
   "id": "362825dd",
   "metadata": {},
   "source": [
    "# Object Oriented Programming"
   ]
  },
  {
   "cell_type": "code",
   "execution_count": 40,
   "id": "6b7632b3",
   "metadata": {},
   "outputs": [
    {
     "name": "stdout",
     "output_type": "stream",
     "text": [
      "100\n"
     ]
    }
   ],
   "source": [
    "class Cl:\n",
    "    def __init__(self,id):\n",
    "        self.id=100\n",
    "c1=Cl(200)\n",
    "print(c1.id)"
   ]
  },
  {
   "cell_type": "code",
   "execution_count": 41,
   "id": "32930e5a",
   "metadata": {},
   "outputs": [
    {
     "name": "stdout",
     "output_type": "stream",
     "text": [
      "200\n"
     ]
    }
   ],
   "source": [
    "class Cl:\n",
    "    def __init__(self,id):\n",
    "        self.id=id\n",
    "c1=Cl(200)\n",
    "print(c1.id)"
   ]
  },
  {
   "cell_type": "code",
   "execution_count": 45,
   "id": "4b88f8e3",
   "metadata": {},
   "outputs": [
    {
     "name": "stdout",
     "output_type": "stream",
     "text": [
      "my favorite is Learning Python\n",
      "Your's is  Learn Python the hard way\n"
     ]
    }
   ],
   "source": [
    "class Book:\n",
    "    def __init__(self):\n",
    "        self.title=None\n",
    "my_fav= Book()\n",
    "my_fav.title=\"Head First Programming\"\n",
    "your_fav= Book()\n",
    "your_fav.title=\"Learn Python the hard way\"\n",
    "\n",
    "my_fav.title=\"Learning Python\"\n",
    "print(\"my favorite is\",my_fav.title)\n",
    "print(\"Your's is \",your_fav.title)"
   ]
  },
  {
   "cell_type": "code",
   "execution_count": 50,
   "id": "f10cd039",
   "metadata": {},
   "outputs": [
    {
     "name": "stdout",
     "output_type": "stream",
     "text": [
      "the unique id of the object 1953128715104\n"
     ]
    }
   ],
   "source": [
    "class Shoe:\n",
    "    def __init__(self,price,material):\n",
    "        self.price=price\n",
    "        self.material=material\n",
    "s1=Shoe(1000,\"Canvas\")\n",
    "print(\"the unique id of the object\",id(s1))"
   ]
  },
  {
   "cell_type": "code",
   "execution_count": 53,
   "id": "d007d4c7",
   "metadata": {},
   "outputs": [
    {
     "name": "stdout",
     "output_type": "stream",
     "text": [
      "Shoe with price: 1000 and material: Canvas\n"
     ]
    }
   ],
   "source": [
    "class Shoe:\n",
    "    def __init__(self,price,material):\n",
    "        self.price=price\n",
    "        self.material=material\n",
    "    def __str__(self):\n",
    "        return \"Shoe with price: \"+str(self.price)+\" and material: \"+self.material\n",
    "s1=Shoe(1000,\"Canvas\")\n",
    "print(s1)"
   ]
  },
  {
   "cell_type": "code",
   "execution_count": 57,
   "id": "d2dd99cc",
   "metadata": {},
   "outputs": [
    {
     "name": "stdout",
     "output_type": "stream",
     "text": [
      "1953128745136\n",
      "Display details\n",
      "Calculating price\n",
      "1953127469632\n",
      "Display details\n",
      "Calculating price\n"
     ]
    }
   ],
   "source": [
    "class Mobile:\n",
    "    def __init__(self):\n",
    "        print(id(self))\n",
    "    def display(self):\n",
    "        print(\"Display details\")\n",
    "    def purchase(self):\n",
    "        self.display()\n",
    "        print(\"Calculating price\")\n",
    "Mobile().purchase()\n",
    "Mobile().purchase()\n"
   ]
  },
  {
   "cell_type": "code",
   "execution_count": 59,
   "id": "c1068daa",
   "metadata": {},
   "outputs": [
    {
     "name": "stdout",
     "output_type": "stream",
     "text": [
      "Total price of Apple mobile is 1800.0\n",
      "Total price of Samsung mobile is 9500.0\n"
     ]
    }
   ],
   "source": [
    "class Mobile:\n",
    "    def __init__(self,brand,price):\n",
    "        self.brand=brand\n",
    "        self.price=price\n",
    "        self.total_price=None\n",
    "    def purchase(self):\n",
    "        if self.brand=='Apple':\n",
    "            discount=10\n",
    "        else:\n",
    "            discount=5\n",
    "        self.total_price=self.price-self.price*(discount/100)\n",
    "        print(\"Total price of\",self.brand,\"mobile is\",self.total_price)\n",
    "m1=Mobile(\"Apple\",2000)\n",
    "m2=Mobile(\"Samsung\",10000)\n",
    "m1.purchase()\n",
    "m2.purchase()"
   ]
  },
  {
   "cell_type": "code",
   "execution_count": 60,
   "id": "cc7e0def",
   "metadata": {},
   "outputs": [
    {
     "name": "stdout",
     "output_type": "stream",
     "text": [
      "The balance is  1500\n"
     ]
    }
   ],
   "source": [
    "class Customer:\n",
    "    def __init__(self,cust_id,name,age,wallet_balance):\n",
    "        self.cust_id=cust_ids\n",
    "        self.name=name\n",
    "        self.age=age\n",
    "        self.wallet_balance=wallet_balance\n",
    "    def update_balance(self,amount):\n",
    "        if amount < 1000 and amount>0:\n",
    "            self.wallet_balance+=amount\n",
    "    def show_balance(self):\n",
    "        print(\"The balance is \",self.wallet_balance)\n",
    "c1=Customer(100,\"Gopal\",24,1000)\n",
    "c1.update_balance(500)\n",
    "c1.show_balance()"
   ]
  },
  {
   "cell_type": "code",
   "execution_count": null,
   "id": "a7896050",
   "metadata": {},
   "outputs": [],
   "source": []
  }
 ],
 "metadata": {
  "kernelspec": {
   "display_name": "Python 3 (ipykernel)",
   "language": "python",
   "name": "python3"
  },
  "language_info": {
   "codemirror_mode": {
    "name": "ipython",
    "version": 3
   },
   "file_extension": ".py",
   "mimetype": "text/x-python",
   "name": "python",
   "nbconvert_exporter": "python",
   "pygments_lexer": "ipython3",
   "version": "3.10.8"
  }
 },
 "nbformat": 4,
 "nbformat_minor": 5
}
